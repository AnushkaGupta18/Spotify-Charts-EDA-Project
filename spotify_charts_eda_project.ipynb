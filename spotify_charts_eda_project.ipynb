{
  "cells": [
    {
      "cell_type": "markdown",
      "metadata": {
        "id": "view-in-github",
        "colab_type": "text"
      },
      "source": [
        "<a href=\"https://colab.research.google.com/github/AnushkaGupta18/Spotify-Charts-EDA-Project/blob/main/spotify_charts_eda_project.ipynb\" target=\"_parent\"><img src=\"https://colab.research.google.com/assets/colab-badge.svg\" alt=\"Open In Colab\"/></a>"
      ]
    },
    {
      "cell_type": "code",
      "execution_count": null,
      "metadata": {
        "colab": {
          "base_uri": "https://localhost:8080/"
        },
        "id": "aK8AaCDv8IV9",
        "outputId": "d46a63ea-7d00-46d9-a49a-da50fa4cb117"
      },
      "outputs": [
        {
          "output_type": "stream",
          "name": "stdout",
          "text": [
            "\u001b[?25l\r\u001b[K     |████▊                           | 10 kB 22.3 MB/s eta 0:00:01\r\u001b[K     |█████████▌                      | 20 kB 25.6 MB/s eta 0:00:01\r\u001b[K     |██████████████▎                 | 30 kB 28.8 MB/s eta 0:00:01\r\u001b[K     |███████████████████             | 40 kB 32.6 MB/s eta 0:00:01\r\u001b[K     |███████████████████████▉        | 51 kB 11.5 MB/s eta 0:00:01\r\u001b[K     |████████████████████████████▋   | 61 kB 13.0 MB/s eta 0:00:01\r\u001b[K     |████████████████████████████████| 68 kB 4.1 MB/s \n",
            "\u001b[?25h  Building wheel for uuid (setup.py) ... \u001b[?25l\u001b[?25hdone\n"
          ]
        }
      ],
      "source": [
        "# Jovian Commit Essentials\n",
        "# Please retain and execute this cell without modifying the contents for `jovian.commit` to work\n",
        "!pip install jovian --upgrade -q\n",
        "import jovian\n",
        "jovian.set_project('spotify-charts-eda-project')\n",
        "jovian.set_colab_id('10uGREzaGEozUB1LPPaJh90o9AJ1Sd5qg')"
      ]
    },
    {
      "cell_type": "markdown",
      "metadata": {
        "id": "e0e51EWO8IWK"
      },
      "source": [
        "# spotify-charts-eda-project\n",
        "\n",
        "Use the \"Run\" button to execute the code."
      ]
    },
    {
      "cell_type": "code",
      "execution_count": null,
      "metadata": {
        "id": "RvV4smhh8IWO"
      },
      "outputs": [],
      "source": [
        "!pip install jovian --upgrade --quiet"
      ]
    },
    {
      "cell_type": "code",
      "execution_count": null,
      "metadata": {
        "id": "6eo8gCPf8IWR"
      },
      "outputs": [],
      "source": [
        "import jovian"
      ]
    },
    {
      "cell_type": "code",
      "execution_count": null,
      "metadata": {
        "code_folding": [],
        "colab": {
          "base_uri": "https://localhost:8080/",
          "height": 122
        },
        "id": "dtoyG2Ke8IWS",
        "outputId": "aa03c297-bd23-4317-e51a-560410777bae"
      },
      "outputs": [
        {
          "output_type": "stream",
          "name": "stdout",
          "text": [
            "[jovian] Detected Colab notebook...\u001b[0m\n",
            "[jovian] Please enter your API key ( from https://jovian.ai/ ):\u001b[0m\n",
            "API KEY: ··········\n",
            "[jovian] Uploading colab notebook to Jovian...\u001b[0m\n",
            "Committed successfully! https://jovian.ai/anushkagupta/spotify-charts-eda-project\n"
          ]
        },
        {
          "output_type": "execute_result",
          "data": {
            "text/plain": [
              "'https://jovian.ai/anushkagupta/spotify-charts-eda-project'"
            ],
            "application/vnd.google.colaboratory.intrinsic+json": {
              "type": "string"
            }
          },
          "metadata": {},
          "execution_count": 5
        }
      ],
      "source": [
        "# Execute this to save new versions of the notebook\n",
        "jovian.commit(project=\"spotify-charts-eda-project\")"
      ]
    },
    {
      "cell_type": "markdown",
      "source": [
        "# **Spotify Charts, Exploratory Data Analysis**\n",
        "\n",
        "\n",
        "Exploratory Data Analysis refers to the critical process of performing initial investigations on data so as to discover patterns,to spot anomalies,to test hypothesis and to check assumptions with the help of summary statistics and graphical representations.\n",
        "\n",
        "\n",
        "The dataset has been taken from kaggle, and it contains information of all the \"Top 200\" and \"Viral 50\" charts published globally by Spotify. Spotify publishes a new chart every 2-3 days. This is its entire collection since January 1, 2017. The dataset can be used to identify the different artists people listen to most across the world, and the growth of various artists through the years.\n",
        "\n",
        "\n",
        "\n"
      ],
      "metadata": {
        "id": "WcG8Xvwr-Jm9"
      }
    },
    {
      "cell_type": "code",
      "execution_count": null,
      "metadata": {
        "id": "q6tHmpea8IWV",
        "colab": {
          "base_uri": "https://localhost:8080/"
        },
        "outputId": "57c8a6ba-e5f8-4e06-ac2e-0760ff125e07"
      },
      "outputs": [
        {
          "output_type": "stream",
          "name": "stdout",
          "text": [
            "Looking in indexes: https://pypi.org/simple, https://us-python.pkg.dev/colab-wheels/public/simple/\n",
            "Collecting opendatasets\n",
            "  Downloading opendatasets-0.1.22-py3-none-any.whl (15 kB)\n",
            "Requirement already satisfied: click in /usr/local/lib/python3.7/dist-packages (from opendatasets) (7.1.2)\n",
            "Requirement already satisfied: kaggle in /usr/local/lib/python3.7/dist-packages (from opendatasets) (1.5.12)\n",
            "Requirement already satisfied: tqdm in /usr/local/lib/python3.7/dist-packages (from opendatasets) (4.64.0)\n",
            "Requirement already satisfied: python-slugify in /usr/local/lib/python3.7/dist-packages (from kaggle->opendatasets) (6.1.2)\n",
            "Requirement already satisfied: certifi in /usr/local/lib/python3.7/dist-packages (from kaggle->opendatasets) (2022.6.15)\n",
            "Requirement already satisfied: requests in /usr/local/lib/python3.7/dist-packages (from kaggle->opendatasets) (2.23.0)\n",
            "Requirement already satisfied: urllib3 in /usr/local/lib/python3.7/dist-packages (from kaggle->opendatasets) (1.24.3)\n",
            "Requirement already satisfied: six>=1.10 in /usr/local/lib/python3.7/dist-packages (from kaggle->opendatasets) (1.15.0)\n",
            "Requirement already satisfied: python-dateutil in /usr/local/lib/python3.7/dist-packages (from kaggle->opendatasets) (2.8.2)\n",
            "Requirement already satisfied: text-unidecode>=1.3 in /usr/local/lib/python3.7/dist-packages (from python-slugify->kaggle->opendatasets) (1.3)\n",
            "Requirement already satisfied: chardet<4,>=3.0.2 in /usr/local/lib/python3.7/dist-packages (from requests->kaggle->opendatasets) (3.0.4)\n",
            "Requirement already satisfied: idna<3,>=2.5 in /usr/local/lib/python3.7/dist-packages (from requests->kaggle->opendatasets) (2.10)\n",
            "Installing collected packages: opendatasets\n",
            "Successfully installed opendatasets-0.1.22\n"
          ]
        }
      ],
      "source": [
        "pip install opendatasets --upgrade"
      ]
    },
    {
      "cell_type": "code",
      "source": [
        "import opendatasets as od \n",
        "\n",
        "download_url = 'https://www.kaggle.com/datasets/dhruvildave/spotify-charts'\n",
        "\n",
        "od.download(download_url)"
      ],
      "metadata": {
        "colab": {
          "base_uri": "https://localhost:8080/"
        },
        "id": "lbK06aakAl4P",
        "outputId": "9a294007-841e-499e-a048-c668cdc20d72"
      },
      "execution_count": null,
      "outputs": [
        {
          "output_type": "stream",
          "name": "stdout",
          "text": [
            "Please provide your Kaggle credentials to download this dataset. Learn more: http://bit.ly/kaggle-creds\n",
            "Your Kaggle username: anushkaguptax\n",
            "Your Kaggle Key: ··········\n",
            "Downloading spotify-charts.zip to ./spotify-charts\n"
          ]
        },
        {
          "output_type": "stream",
          "name": "stderr",
          "text": [
            "100%|██████████| 945M/945M [00:09<00:00, 106MB/s] \n"
          ]
        },
        {
          "output_type": "stream",
          "name": "stdout",
          "text": [
            "\n"
          ]
        }
      ]
    },
    {
      "cell_type": "code",
      "source": [
        "dataset_filename = './spotify-charts/charts.csv'"
      ],
      "metadata": {
        "id": "L3gJ-gVgCKnh"
      },
      "execution_count": null,
      "outputs": []
    },
    {
      "cell_type": "markdown",
      "source": [
        "##**Data Preparation and Cleaning:**\n",
        "\n",
        "- Load the file using Pandas\n",
        "- Look at some information about the data and columns\n",
        "- Fix any missing or incorrect values\n",
        "\n"
      ],
      "metadata": {
        "id": "MUwNnOWaCWAk"
      }
    },
    {
      "cell_type": "code",
      "source": [
        "import pandas as pd"
      ],
      "metadata": {
        "id": "3rLsJp_SCcqJ"
      },
      "execution_count": null,
      "outputs": []
    },
    {
      "cell_type": "code",
      "source": [
        "df = pd.read_csv(dataset_filename)"
      ],
      "metadata": {
        "id": "UMOQT8xvfUyW"
      },
      "execution_count": null,
      "outputs": []
    },
    {
      "cell_type": "code",
      "source": [
        "df"
      ],
      "metadata": {
        "colab": {
          "base_uri": "https://localhost:8080/",
          "height": 424
        },
        "id": "Sw4clbxefmHf",
        "outputId": "83f5001e-be6a-4392-e95b-e463d3e90cf9"
      },
      "execution_count": null,
      "outputs": [
        {
          "output_type": "execute_result",
          "data": {
            "text/plain": [
              "                                  title  rank        date  \\\n",
              "0               Chantaje (feat. Maluma)     1  2017-01-01   \n",
              "1           Vente Pa' Ca (feat. Maluma)     2  2017-01-01   \n",
              "2            Reggaetón Lento (Bailemos)     3  2017-01-01   \n",
              "3                                Safari     4  2017-01-01   \n",
              "4                           Shaky Shaky     5  2017-01-01   \n",
              "...                                 ...   ...         ...   \n",
              "26173509                            BYE    46  2021-07-31   \n",
              "26173510                        Pillars    47  2021-07-31   \n",
              "26173511                   Gái Độc Thân    48  2021-07-31   \n",
              "26173512  Renegade (feat. Taylor Swift)    49  2021-07-31   \n",
              "26173513                Letter to Jarad    50  2021-07-31   \n",
              "\n",
              "                                         artist  \\\n",
              "0                                       Shakira   \n",
              "1                                  Ricky Martin   \n",
              "2                                          CNCO   \n",
              "3         J Balvin, Pharrell Williams, BIA, Sky   \n",
              "4                                  Daddy Yankee   \n",
              "...                                         ...   \n",
              "26173509                                  Jaden   \n",
              "26173510                                 My Anh   \n",
              "26173511                                  Tlinh   \n",
              "26173512                        Big Red Machine   \n",
              "26173513              LRN Slime, Shiloh Dynasty   \n",
              "\n",
              "                                                        url     region  \\\n",
              "0         https://open.spotify.com/track/6mICuAdrwEjh6Y6...  Argentina   \n",
              "1         https://open.spotify.com/track/7DM4BPaS7uofFul...  Argentina   \n",
              "2         https://open.spotify.com/track/3AEZUABDXNtecAO...  Argentina   \n",
              "3         https://open.spotify.com/track/6rQSrBHf7HlZjtc...  Argentina   \n",
              "4         https://open.spotify.com/track/58IL315gMSTD37D...  Argentina   \n",
              "...                                                     ...        ...   \n",
              "26173509  https://open.spotify.com/track/3OUyyDN7EZrL7i0...    Vietnam   \n",
              "26173510  https://open.spotify.com/track/6eky30oFiQbHUAT...    Vietnam   \n",
              "26173511  https://open.spotify.com/track/2klsSb2iTfgDh95...    Vietnam   \n",
              "26173512  https://open.spotify.com/track/1aU1wpYBSpP0M6I...    Vietnam   \n",
              "26173513  https://open.spotify.com/track/508QhA2SncMbh5C...    Vietnam   \n",
              "\n",
              "            chart          trend   streams  \n",
              "0          top200  SAME_POSITION  253019.0  \n",
              "1          top200        MOVE_UP  223988.0  \n",
              "2          top200      MOVE_DOWN  210943.0  \n",
              "3          top200  SAME_POSITION  173865.0  \n",
              "4          top200        MOVE_UP  153956.0  \n",
              "...           ...            ...       ...  \n",
              "26173509  viral50        MOVE_UP       NaN  \n",
              "26173510  viral50      NEW_ENTRY       NaN  \n",
              "26173511  viral50      MOVE_DOWN       NaN  \n",
              "26173512  viral50      MOVE_DOWN       NaN  \n",
              "26173513  viral50      MOVE_DOWN       NaN  \n",
              "\n",
              "[26173514 rows x 9 columns]"
            ],
            "text/html": [
              "\n",
              "  <div id=\"df-67379886-c83c-4c20-81c5-31584987c1d2\">\n",
              "    <div class=\"colab-df-container\">\n",
              "      <div>\n",
              "<style scoped>\n",
              "    .dataframe tbody tr th:only-of-type {\n",
              "        vertical-align: middle;\n",
              "    }\n",
              "\n",
              "    .dataframe tbody tr th {\n",
              "        vertical-align: top;\n",
              "    }\n",
              "\n",
              "    .dataframe thead th {\n",
              "        text-align: right;\n",
              "    }\n",
              "</style>\n",
              "<table border=\"1\" class=\"dataframe\">\n",
              "  <thead>\n",
              "    <tr style=\"text-align: right;\">\n",
              "      <th></th>\n",
              "      <th>title</th>\n",
              "      <th>rank</th>\n",
              "      <th>date</th>\n",
              "      <th>artist</th>\n",
              "      <th>url</th>\n",
              "      <th>region</th>\n",
              "      <th>chart</th>\n",
              "      <th>trend</th>\n",
              "      <th>streams</th>\n",
              "    </tr>\n",
              "  </thead>\n",
              "  <tbody>\n",
              "    <tr>\n",
              "      <th>0</th>\n",
              "      <td>Chantaje (feat. Maluma)</td>\n",
              "      <td>1</td>\n",
              "      <td>2017-01-01</td>\n",
              "      <td>Shakira</td>\n",
              "      <td>https://open.spotify.com/track/6mICuAdrwEjh6Y6...</td>\n",
              "      <td>Argentina</td>\n",
              "      <td>top200</td>\n",
              "      <td>SAME_POSITION</td>\n",
              "      <td>253019.0</td>\n",
              "    </tr>\n",
              "    <tr>\n",
              "      <th>1</th>\n",
              "      <td>Vente Pa' Ca (feat. Maluma)</td>\n",
              "      <td>2</td>\n",
              "      <td>2017-01-01</td>\n",
              "      <td>Ricky Martin</td>\n",
              "      <td>https://open.spotify.com/track/7DM4BPaS7uofFul...</td>\n",
              "      <td>Argentina</td>\n",
              "      <td>top200</td>\n",
              "      <td>MOVE_UP</td>\n",
              "      <td>223988.0</td>\n",
              "    </tr>\n",
              "    <tr>\n",
              "      <th>2</th>\n",
              "      <td>Reggaetón Lento (Bailemos)</td>\n",
              "      <td>3</td>\n",
              "      <td>2017-01-01</td>\n",
              "      <td>CNCO</td>\n",
              "      <td>https://open.spotify.com/track/3AEZUABDXNtecAO...</td>\n",
              "      <td>Argentina</td>\n",
              "      <td>top200</td>\n",
              "      <td>MOVE_DOWN</td>\n",
              "      <td>210943.0</td>\n",
              "    </tr>\n",
              "    <tr>\n",
              "      <th>3</th>\n",
              "      <td>Safari</td>\n",
              "      <td>4</td>\n",
              "      <td>2017-01-01</td>\n",
              "      <td>J Balvin, Pharrell Williams, BIA, Sky</td>\n",
              "      <td>https://open.spotify.com/track/6rQSrBHf7HlZjtc...</td>\n",
              "      <td>Argentina</td>\n",
              "      <td>top200</td>\n",
              "      <td>SAME_POSITION</td>\n",
              "      <td>173865.0</td>\n",
              "    </tr>\n",
              "    <tr>\n",
              "      <th>4</th>\n",
              "      <td>Shaky Shaky</td>\n",
              "      <td>5</td>\n",
              "      <td>2017-01-01</td>\n",
              "      <td>Daddy Yankee</td>\n",
              "      <td>https://open.spotify.com/track/58IL315gMSTD37D...</td>\n",
              "      <td>Argentina</td>\n",
              "      <td>top200</td>\n",
              "      <td>MOVE_UP</td>\n",
              "      <td>153956.0</td>\n",
              "    </tr>\n",
              "    <tr>\n",
              "      <th>...</th>\n",
              "      <td>...</td>\n",
              "      <td>...</td>\n",
              "      <td>...</td>\n",
              "      <td>...</td>\n",
              "      <td>...</td>\n",
              "      <td>...</td>\n",
              "      <td>...</td>\n",
              "      <td>...</td>\n",
              "      <td>...</td>\n",
              "    </tr>\n",
              "    <tr>\n",
              "      <th>26173509</th>\n",
              "      <td>BYE</td>\n",
              "      <td>46</td>\n",
              "      <td>2021-07-31</td>\n",
              "      <td>Jaden</td>\n",
              "      <td>https://open.spotify.com/track/3OUyyDN7EZrL7i0...</td>\n",
              "      <td>Vietnam</td>\n",
              "      <td>viral50</td>\n",
              "      <td>MOVE_UP</td>\n",
              "      <td>NaN</td>\n",
              "    </tr>\n",
              "    <tr>\n",
              "      <th>26173510</th>\n",
              "      <td>Pillars</td>\n",
              "      <td>47</td>\n",
              "      <td>2021-07-31</td>\n",
              "      <td>My Anh</td>\n",
              "      <td>https://open.spotify.com/track/6eky30oFiQbHUAT...</td>\n",
              "      <td>Vietnam</td>\n",
              "      <td>viral50</td>\n",
              "      <td>NEW_ENTRY</td>\n",
              "      <td>NaN</td>\n",
              "    </tr>\n",
              "    <tr>\n",
              "      <th>26173511</th>\n",
              "      <td>Gái Độc Thân</td>\n",
              "      <td>48</td>\n",
              "      <td>2021-07-31</td>\n",
              "      <td>Tlinh</td>\n",
              "      <td>https://open.spotify.com/track/2klsSb2iTfgDh95...</td>\n",
              "      <td>Vietnam</td>\n",
              "      <td>viral50</td>\n",
              "      <td>MOVE_DOWN</td>\n",
              "      <td>NaN</td>\n",
              "    </tr>\n",
              "    <tr>\n",
              "      <th>26173512</th>\n",
              "      <td>Renegade (feat. Taylor Swift)</td>\n",
              "      <td>49</td>\n",
              "      <td>2021-07-31</td>\n",
              "      <td>Big Red Machine</td>\n",
              "      <td>https://open.spotify.com/track/1aU1wpYBSpP0M6I...</td>\n",
              "      <td>Vietnam</td>\n",
              "      <td>viral50</td>\n",
              "      <td>MOVE_DOWN</td>\n",
              "      <td>NaN</td>\n",
              "    </tr>\n",
              "    <tr>\n",
              "      <th>26173513</th>\n",
              "      <td>Letter to Jarad</td>\n",
              "      <td>50</td>\n",
              "      <td>2021-07-31</td>\n",
              "      <td>LRN Slime, Shiloh Dynasty</td>\n",
              "      <td>https://open.spotify.com/track/508QhA2SncMbh5C...</td>\n",
              "      <td>Vietnam</td>\n",
              "      <td>viral50</td>\n",
              "      <td>MOVE_DOWN</td>\n",
              "      <td>NaN</td>\n",
              "    </tr>\n",
              "  </tbody>\n",
              "</table>\n",
              "<p>26173514 rows × 9 columns</p>\n",
              "</div>\n",
              "      <button class=\"colab-df-convert\" onclick=\"convertToInteractive('df-67379886-c83c-4c20-81c5-31584987c1d2')\"\n",
              "              title=\"Convert this dataframe to an interactive table.\"\n",
              "              style=\"display:none;\">\n",
              "        \n",
              "  <svg xmlns=\"http://www.w3.org/2000/svg\" height=\"24px\"viewBox=\"0 0 24 24\"\n",
              "       width=\"24px\">\n",
              "    <path d=\"M0 0h24v24H0V0z\" fill=\"none\"/>\n",
              "    <path d=\"M18.56 5.44l.94 2.06.94-2.06 2.06-.94-2.06-.94-.94-2.06-.94 2.06-2.06.94zm-11 1L8.5 8.5l.94-2.06 2.06-.94-2.06-.94L8.5 2.5l-.94 2.06-2.06.94zm10 10l.94 2.06.94-2.06 2.06-.94-2.06-.94-.94-2.06-.94 2.06-2.06.94z\"/><path d=\"M17.41 7.96l-1.37-1.37c-.4-.4-.92-.59-1.43-.59-.52 0-1.04.2-1.43.59L10.3 9.45l-7.72 7.72c-.78.78-.78 2.05 0 2.83L4 21.41c.39.39.9.59 1.41.59.51 0 1.02-.2 1.41-.59l7.78-7.78 2.81-2.81c.8-.78.8-2.07 0-2.86zM5.41 20L4 18.59l7.72-7.72 1.47 1.35L5.41 20z\"/>\n",
              "  </svg>\n",
              "      </button>\n",
              "      \n",
              "  <style>\n",
              "    .colab-df-container {\n",
              "      display:flex;\n",
              "      flex-wrap:wrap;\n",
              "      gap: 12px;\n",
              "    }\n",
              "\n",
              "    .colab-df-convert {\n",
              "      background-color: #E8F0FE;\n",
              "      border: none;\n",
              "      border-radius: 50%;\n",
              "      cursor: pointer;\n",
              "      display: none;\n",
              "      fill: #1967D2;\n",
              "      height: 32px;\n",
              "      padding: 0 0 0 0;\n",
              "      width: 32px;\n",
              "    }\n",
              "\n",
              "    .colab-df-convert:hover {\n",
              "      background-color: #E2EBFA;\n",
              "      box-shadow: 0px 1px 2px rgba(60, 64, 67, 0.3), 0px 1px 3px 1px rgba(60, 64, 67, 0.15);\n",
              "      fill: #174EA6;\n",
              "    }\n",
              "\n",
              "    [theme=dark] .colab-df-convert {\n",
              "      background-color: #3B4455;\n",
              "      fill: #D2E3FC;\n",
              "    }\n",
              "\n",
              "    [theme=dark] .colab-df-convert:hover {\n",
              "      background-color: #434B5C;\n",
              "      box-shadow: 0px 1px 3px 1px rgba(0, 0, 0, 0.15);\n",
              "      filter: drop-shadow(0px 1px 2px rgba(0, 0, 0, 0.3));\n",
              "      fill: #FFFFFF;\n",
              "    }\n",
              "  </style>\n",
              "\n",
              "      <script>\n",
              "        const buttonEl =\n",
              "          document.querySelector('#df-67379886-c83c-4c20-81c5-31584987c1d2 button.colab-df-convert');\n",
              "        buttonEl.style.display =\n",
              "          google.colab.kernel.accessAllowed ? 'block' : 'none';\n",
              "\n",
              "        async function convertToInteractive(key) {\n",
              "          const element = document.querySelector('#df-67379886-c83c-4c20-81c5-31584987c1d2');\n",
              "          const dataTable =\n",
              "            await google.colab.kernel.invokeFunction('convertToInteractive',\n",
              "                                                     [key], {});\n",
              "          if (!dataTable) return;\n",
              "\n",
              "          const docLinkHtml = 'Like what you see? Visit the ' +\n",
              "            '<a target=\"_blank\" href=https://colab.research.google.com/notebooks/data_table.ipynb>data table notebook</a>'\n",
              "            + ' to learn more about interactive tables.';\n",
              "          element.innerHTML = '';\n",
              "          dataTable['output_type'] = 'display_data';\n",
              "          await google.colab.output.renderOutput(dataTable, element);\n",
              "          const docLink = document.createElement('div');\n",
              "          docLink.innerHTML = docLinkHtml;\n",
              "          element.appendChild(docLink);\n",
              "        }\n",
              "      </script>\n",
              "    </div>\n",
              "  </div>\n",
              "  "
            ]
          },
          "metadata": {},
          "execution_count": 16
        }
      ]
    },
    {
      "cell_type": "markdown",
      "source": [
        "#### getting information regarding the dataset, such as the number of entries, types of data types used, and the amount of memory used.\n"
      ],
      "metadata": {
        "id": "U0kexPzZjEuP"
      }
    },
    {
      "cell_type": "code",
      "source": [
        "df.info()"
      ],
      "metadata": {
        "colab": {
          "base_uri": "https://localhost:8080/"
        },
        "id": "PdxuaxxhgCvF",
        "outputId": "06f28453-1652-47d9-a27b-641afe18d971"
      },
      "execution_count": null,
      "outputs": [
        {
          "output_type": "stream",
          "name": "stdout",
          "text": [
            "<class 'pandas.core.frame.DataFrame'>\n",
            "RangeIndex: 26173514 entries, 0 to 26173513\n",
            "Data columns (total 9 columns):\n",
            " #   Column   Dtype  \n",
            "---  ------   -----  \n",
            " 0   title    object \n",
            " 1   rank     int64  \n",
            " 2   date     object \n",
            " 3   artist   object \n",
            " 4   url      object \n",
            " 5   region   object \n",
            " 6   chart    object \n",
            " 7   trend    object \n",
            " 8   streams  float64\n",
            "dtypes: float64(1), int64(1), object(7)\n",
            "memory usage: 1.8+ GB\n"
          ]
        }
      ]
    },
    {
      "cell_type": "code",
      "source": [
        ""
      ],
      "metadata": {
        "id": "VLadeUzY1vvX"
      },
      "execution_count": null,
      "outputs": []
    },
    {
      "cell_type": "code",
      "source": [
        ""
      ],
      "metadata": {
        "id": "BrIAiBnS1vpb"
      },
      "execution_count": null,
      "outputs": []
    },
    {
      "cell_type": "code",
      "source": [
        ""
      ],
      "metadata": {
        "id": "OuWYaSrX1vj4"
      },
      "execution_count": null,
      "outputs": []
    },
    {
      "cell_type": "markdown",
      "source": [
        "##**Exploratory Data Analysis and Data Vizualization:**"
      ],
      "metadata": {
        "id": "Sm2Ufe6T1whm"
      }
    },
    {
      "cell_type": "code",
      "source": [
        ""
      ],
      "metadata": {
        "id": "DRKwSrAL1vdX"
      },
      "execution_count": null,
      "outputs": []
    },
    {
      "cell_type": "code",
      "source": [
        ""
      ],
      "metadata": {
        "id": "ap94uMQni8Qu"
      },
      "execution_count": null,
      "outputs": []
    },
    {
      "cell_type": "code",
      "source": [
        ""
      ],
      "metadata": {
        "id": "1g1JcGnekjFb"
      },
      "execution_count": null,
      "outputs": []
    },
    {
      "cell_type": "markdown",
      "source": [
        "##**Questions to Answer:** \n",
        "- What are the top 5 songs that have occured the most in the Top 200 and Viral 50 Charts across all the regions? \n",
        "- Which are the top artists whose songs are present in the charts? \n",
        "- What are the songs which stayed in the Top 200 and Viral 50 charts for the longest period of time? \n",
        "- Which are the top 5 songs with the highest streams? \n",
        "- Find the popularity of a particular artist across all the regions in the world. \n",
        "- What are the top countries where music plays an important role? \n"
      ],
      "metadata": {
        "id": "FwERib6VzchK"
      }
    },
    {
      "cell_type": "code",
      "source": [
        ""
      ],
      "metadata": {
        "id": "JdSEMeO_0mN2"
      },
      "execution_count": null,
      "outputs": []
    },
    {
      "cell_type": "code",
      "source": [
        ""
      ],
      "metadata": {
        "id": "x97iGnvJ2DSa"
      },
      "execution_count": null,
      "outputs": []
    },
    {
      "cell_type": "code",
      "source": [
        ""
      ],
      "metadata": {
        "id": "WtoRGzDj2DOx"
      },
      "execution_count": null,
      "outputs": []
    },
    {
      "cell_type": "code",
      "source": [
        ""
      ],
      "metadata": {
        "id": "lFuE4XP52DMZ"
      },
      "execution_count": null,
      "outputs": []
    },
    {
      "cell_type": "code",
      "source": [
        ""
      ],
      "metadata": {
        "id": "c81xgDQU2DKD"
      },
      "execution_count": null,
      "outputs": []
    },
    {
      "cell_type": "code",
      "source": [
        ""
      ],
      "metadata": {
        "id": "wGRGfl_u2DHk"
      },
      "execution_count": null,
      "outputs": []
    },
    {
      "cell_type": "code",
      "source": [
        ""
      ],
      "metadata": {
        "id": "OX-IaqRc2DFN"
      },
      "execution_count": null,
      "outputs": []
    },
    {
      "cell_type": "code",
      "source": [
        ""
      ],
      "metadata": {
        "id": "rsAaU4422DDF"
      },
      "execution_count": null,
      "outputs": []
    },
    {
      "cell_type": "markdown",
      "source": [
        "##**Summary and Conclusion:**"
      ],
      "metadata": {
        "id": "Z_XebtGK2ERB"
      }
    },
    {
      "cell_type": "code",
      "source": [
        ""
      ],
      "metadata": {
        "id": "AqL7F6Qs2DAj"
      },
      "execution_count": null,
      "outputs": []
    }
  ],
  "metadata": {
    "kernelspec": {
      "display_name": "Python 3 (ipykernel)",
      "language": "python",
      "name": "python3"
    },
    "language_info": {
      "codemirror_mode": {
        "name": "ipython",
        "version": 3
      },
      "file_extension": ".py",
      "mimetype": "text/x-python",
      "name": "python",
      "nbconvert_exporter": "python",
      "pygments_lexer": "ipython3",
      "version": "3.9.6"
    },
    "colab": {
      "name": "spotify-charts-eda-project.ipynb",
      "provenance": [],
      "collapsed_sections": [
        "e0e51EWO8IWK",
        "WcG8Xvwr-Jm9"
      ],
      "include_colab_link": true
    }
  },
  "nbformat": 4,
  "nbformat_minor": 0
}