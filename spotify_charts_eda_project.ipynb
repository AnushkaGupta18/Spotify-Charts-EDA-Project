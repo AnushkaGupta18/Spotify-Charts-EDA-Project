{
 "cells": [
  {
   "cell_type": "code",
   "execution_count": 4,
   "metadata": {
    "id": "aK8AaCDv8IV9"
   },
   "outputs": [],
   "source": [
    "# Jovian Commit Essentials\n",
    "# Please retain and execute this cell without modifying the contents for `jovian.commit` to work\n",
    "!pip install jovian --upgrade -q\n",
    "import jovian\n",
    "jovian.set_project('spotify-charts-eda-project')\n",
    "jovian.set_colab_id('10uGREzaGEozUB1LPPaJh90o9AJ1Sd5qg')"
   ]
  },
  {
   "cell_type": "markdown",
   "metadata": {
    "id": "e0e51EWO8IWK"
   },
   "source": [
    "# spotify-charts-eda-project\n",
    "\n",
    "Use the \"Run\" button to execute the code."
   ]
  },
  {
   "cell_type": "code",
   "execution_count": 5,
   "metadata": {
    "id": "RvV4smhh8IWO"
   },
   "outputs": [],
   "source": [
    "!pip install jovian --upgrade --quiet"
   ]
  },
  {
   "cell_type": "code",
   "execution_count": 6,
   "metadata": {
    "id": "6eo8gCPf8IWR"
   },
   "outputs": [],
   "source": [
    "import jovian"
   ]
  },
  {
   "cell_type": "code",
   "execution_count": 7,
   "metadata": {
    "code_folding": [],
    "id": "dtoyG2Ke8IWS"
   },
   "outputs": [
    {
     "data": {
      "application/javascript": [
       "window.require && require([\"base/js/namespace\"],function(Jupyter){Jupyter.notebook.save_checkpoint()})"
      ],
      "text/plain": [
       "<IPython.core.display.Javascript object>"
      ]
     },
     "metadata": {},
     "output_type": "display_data"
    },
    {
     "name": "stdout",
     "output_type": "stream",
     "text": [
      "[jovian] Updating notebook \"anushkagupta/spotify-charts-eda-project\" on https://jovian.ai/\u001b[0m\n",
      "[jovian] Committed successfully! https://jovian.ai/anushkagupta/spotify-charts-eda-project\u001b[0m\n"
     ]
    },
    {
     "data": {
      "text/plain": [
       "'https://jovian.ai/anushkagupta/spotify-charts-eda-project'"
      ]
     },
     "execution_count": 7,
     "metadata": {},
     "output_type": "execute_result"
    }
   ],
   "source": [
    "# Execute this to save new versions of the notebook\n",
    "jovian.commit(project=\"spotify-charts-eda-project\")"
   ]
  },
  {
   "cell_type": "markdown",
   "metadata": {
    "id": "WcG8Xvwr-Jm9"
   },
   "source": [
    "# **Spotify Charts, Exploratory Data Analysis**\n",
    "\n",
    "\n",
    "Exploratory Data Analysis refers to the critical process of performing initial \n",
    "investigations on data so as to discover patterns,to spot anomalies,to test \n",
    "hypothesis and to check assumptions with the help of summary statistics and graphical representations.\n",
    "\n",
    "\n",
    "The dataset has been taken from kaggle, and it contains information of all the \"Top 200\" and \"Viral 50\" charts published globally by Spotify. Spotify publishes a new chart every 2-3 days. This is its entire collection since January 1, 2017. The dataset can be used to identify the different artists people listen to most across the world, and the growth of various artists through the years.\n",
    "\n",
    "\n",
    "\n"
   ]
  },
  {
   "cell_type": "code",
   "execution_count": 8,
   "metadata": {
    "collapsed": true,
    "id": "q6tHmpea8IWV"
   },
   "outputs": [
    {
     "name": "stdout",
     "output_type": "stream",
     "text": [
      "Note: you may need to restart the kernel to use updated packages.\n"
     ]
    }
   ],
   "source": [
    "pip install opendatasets --upgrade --quiet\n"
   ]
  },
  {
   "cell_type": "code",
   "execution_count": 9,
   "metadata": {
    "collapsed": true,
    "id": "lbK06aakAl4P"
   },
   "outputs": [
    {
     "name": "stdout",
     "output_type": "stream",
     "text": [
      "Skipping, found downloaded files in \".\\spotify-charts\" (use force=True to force download)\n"
     ]
    }
   ],
   "source": [
    "import opendatasets as od \n",
    "\n",
    "download_url = 'https://www.kaggle.com/datasets/dhruvildave/spotify-charts'\n",
    "\n",
    "od.download(download_url)"
   ]
  },
  {
   "cell_type": "code",
   "execution_count": 10,
   "metadata": {
    "id": "L3gJ-gVgCKnh"
   },
   "outputs": [],
   "source": [
    "dataset_filename = './spotify-charts/charts.csv'"
   ]
  },
  {
   "cell_type": "markdown",
   "metadata": {
    "id": "MUwNnOWaCWAk"
   },
   "source": [
    "## **Data Preparation and Cleaning:**\n"
   ]
  },
  {
   "cell_type": "code",
   "execution_count": 11,
   "metadata": {
    "id": "3rLsJp_SCcqJ"
   },
   "outputs": [],
   "source": [
    "import pandas as pd"
   ]
  },
  {
   "cell_type": "code",
   "execution_count": 12,
   "metadata": {
    "id": "UMOQT8xvfUyW"
   },
   "outputs": [],
   "source": [
    "df = pd.read_csv(dataset_filename)"
   ]
  },
  {
   "cell_type": "code",
   "execution_count": 13,
   "metadata": {
    "id": "Sw4clbxefmHf"
   },
   "outputs": [
    {
     "data": {
      "text/html": [
       "<div>\n",
       "<style scoped>\n",
       "    .dataframe tbody tr th:only-of-type {\n",
       "        vertical-align: middle;\n",
       "    }\n",
       "\n",
       "    .dataframe tbody tr th {\n",
       "        vertical-align: top;\n",
       "    }\n",
       "\n",
       "    .dataframe thead th {\n",
       "        text-align: right;\n",
       "    }\n",
       "</style>\n",
       "<table border=\"1\" class=\"dataframe\">\n",
       "  <thead>\n",
       "    <tr style=\"text-align: right;\">\n",
       "      <th></th>\n",
       "      <th>title</th>\n",
       "      <th>rank</th>\n",
       "      <th>date</th>\n",
       "      <th>artist</th>\n",
       "      <th>url</th>\n",
       "      <th>region</th>\n",
       "      <th>chart</th>\n",
       "      <th>trend</th>\n",
       "      <th>streams</th>\n",
       "    </tr>\n",
       "  </thead>\n",
       "  <tbody>\n",
       "    <tr>\n",
       "      <th>0</th>\n",
       "      <td>Chantaje (feat. Maluma)</td>\n",
       "      <td>1</td>\n",
       "      <td>2017-01-01</td>\n",
       "      <td>Shakira</td>\n",
       "      <td>https://open.spotify.com/track/6mICuAdrwEjh6Y6...</td>\n",
       "      <td>Argentina</td>\n",
       "      <td>top200</td>\n",
       "      <td>SAME_POSITION</td>\n",
       "      <td>253019.0</td>\n",
       "    </tr>\n",
       "    <tr>\n",
       "      <th>1</th>\n",
       "      <td>Vente Pa' Ca (feat. Maluma)</td>\n",
       "      <td>2</td>\n",
       "      <td>2017-01-01</td>\n",
       "      <td>Ricky Martin</td>\n",
       "      <td>https://open.spotify.com/track/7DM4BPaS7uofFul...</td>\n",
       "      <td>Argentina</td>\n",
       "      <td>top200</td>\n",
       "      <td>MOVE_UP</td>\n",
       "      <td>223988.0</td>\n",
       "    </tr>\n",
       "    <tr>\n",
       "      <th>2</th>\n",
       "      <td>Reggaetón Lento (Bailemos)</td>\n",
       "      <td>3</td>\n",
       "      <td>2017-01-01</td>\n",
       "      <td>CNCO</td>\n",
       "      <td>https://open.spotify.com/track/3AEZUABDXNtecAO...</td>\n",
       "      <td>Argentina</td>\n",
       "      <td>top200</td>\n",
       "      <td>MOVE_DOWN</td>\n",
       "      <td>210943.0</td>\n",
       "    </tr>\n",
       "    <tr>\n",
       "      <th>3</th>\n",
       "      <td>Safari</td>\n",
       "      <td>4</td>\n",
       "      <td>2017-01-01</td>\n",
       "      <td>J Balvin, Pharrell Williams, BIA, Sky</td>\n",
       "      <td>https://open.spotify.com/track/6rQSrBHf7HlZjtc...</td>\n",
       "      <td>Argentina</td>\n",
       "      <td>top200</td>\n",
       "      <td>SAME_POSITION</td>\n",
       "      <td>173865.0</td>\n",
       "    </tr>\n",
       "    <tr>\n",
       "      <th>4</th>\n",
       "      <td>Shaky Shaky</td>\n",
       "      <td>5</td>\n",
       "      <td>2017-01-01</td>\n",
       "      <td>Daddy Yankee</td>\n",
       "      <td>https://open.spotify.com/track/58IL315gMSTD37D...</td>\n",
       "      <td>Argentina</td>\n",
       "      <td>top200</td>\n",
       "      <td>MOVE_UP</td>\n",
       "      <td>153956.0</td>\n",
       "    </tr>\n",
       "    <tr>\n",
       "      <th>...</th>\n",
       "      <td>...</td>\n",
       "      <td>...</td>\n",
       "      <td>...</td>\n",
       "      <td>...</td>\n",
       "      <td>...</td>\n",
       "      <td>...</td>\n",
       "      <td>...</td>\n",
       "      <td>...</td>\n",
       "      <td>...</td>\n",
       "    </tr>\n",
       "    <tr>\n",
       "      <th>26173509</th>\n",
       "      <td>BYE</td>\n",
       "      <td>46</td>\n",
       "      <td>2021-07-31</td>\n",
       "      <td>Jaden</td>\n",
       "      <td>https://open.spotify.com/track/3OUyyDN7EZrL7i0...</td>\n",
       "      <td>Vietnam</td>\n",
       "      <td>viral50</td>\n",
       "      <td>MOVE_UP</td>\n",
       "      <td>NaN</td>\n",
       "    </tr>\n",
       "    <tr>\n",
       "      <th>26173510</th>\n",
       "      <td>Pillars</td>\n",
       "      <td>47</td>\n",
       "      <td>2021-07-31</td>\n",
       "      <td>My Anh</td>\n",
       "      <td>https://open.spotify.com/track/6eky30oFiQbHUAT...</td>\n",
       "      <td>Vietnam</td>\n",
       "      <td>viral50</td>\n",
       "      <td>NEW_ENTRY</td>\n",
       "      <td>NaN</td>\n",
       "    </tr>\n",
       "    <tr>\n",
       "      <th>26173511</th>\n",
       "      <td>Gái Độc Thân</td>\n",
       "      <td>48</td>\n",
       "      <td>2021-07-31</td>\n",
       "      <td>Tlinh</td>\n",
       "      <td>https://open.spotify.com/track/2klsSb2iTfgDh95...</td>\n",
       "      <td>Vietnam</td>\n",
       "      <td>viral50</td>\n",
       "      <td>MOVE_DOWN</td>\n",
       "      <td>NaN</td>\n",
       "    </tr>\n",
       "    <tr>\n",
       "      <th>26173512</th>\n",
       "      <td>Renegade (feat. Taylor Swift)</td>\n",
       "      <td>49</td>\n",
       "      <td>2021-07-31</td>\n",
       "      <td>Big Red Machine</td>\n",
       "      <td>https://open.spotify.com/track/1aU1wpYBSpP0M6I...</td>\n",
       "      <td>Vietnam</td>\n",
       "      <td>viral50</td>\n",
       "      <td>MOVE_DOWN</td>\n",
       "      <td>NaN</td>\n",
       "    </tr>\n",
       "    <tr>\n",
       "      <th>26173513</th>\n",
       "      <td>Letter to Jarad</td>\n",
       "      <td>50</td>\n",
       "      <td>2021-07-31</td>\n",
       "      <td>LRN Slime, Shiloh Dynasty</td>\n",
       "      <td>https://open.spotify.com/track/508QhA2SncMbh5C...</td>\n",
       "      <td>Vietnam</td>\n",
       "      <td>viral50</td>\n",
       "      <td>MOVE_DOWN</td>\n",
       "      <td>NaN</td>\n",
       "    </tr>\n",
       "  </tbody>\n",
       "</table>\n",
       "<p>26173514 rows × 9 columns</p>\n",
       "</div>"
      ],
      "text/plain": [
       "                                  title  rank        date  \\\n",
       "0               Chantaje (feat. Maluma)     1  2017-01-01   \n",
       "1           Vente Pa' Ca (feat. Maluma)     2  2017-01-01   \n",
       "2            Reggaetón Lento (Bailemos)     3  2017-01-01   \n",
       "3                                Safari     4  2017-01-01   \n",
       "4                           Shaky Shaky     5  2017-01-01   \n",
       "...                                 ...   ...         ...   \n",
       "26173509                            BYE    46  2021-07-31   \n",
       "26173510                        Pillars    47  2021-07-31   \n",
       "26173511                   Gái Độc Thân    48  2021-07-31   \n",
       "26173512  Renegade (feat. Taylor Swift)    49  2021-07-31   \n",
       "26173513                Letter to Jarad    50  2021-07-31   \n",
       "\n",
       "                                         artist  \\\n",
       "0                                       Shakira   \n",
       "1                                  Ricky Martin   \n",
       "2                                          CNCO   \n",
       "3         J Balvin, Pharrell Williams, BIA, Sky   \n",
       "4                                  Daddy Yankee   \n",
       "...                                         ...   \n",
       "26173509                                  Jaden   \n",
       "26173510                                 My Anh   \n",
       "26173511                                  Tlinh   \n",
       "26173512                        Big Red Machine   \n",
       "26173513              LRN Slime, Shiloh Dynasty   \n",
       "\n",
       "                                                        url     region  \\\n",
       "0         https://open.spotify.com/track/6mICuAdrwEjh6Y6...  Argentina   \n",
       "1         https://open.spotify.com/track/7DM4BPaS7uofFul...  Argentina   \n",
       "2         https://open.spotify.com/track/3AEZUABDXNtecAO...  Argentina   \n",
       "3         https://open.spotify.com/track/6rQSrBHf7HlZjtc...  Argentina   \n",
       "4         https://open.spotify.com/track/58IL315gMSTD37D...  Argentina   \n",
       "...                                                     ...        ...   \n",
       "26173509  https://open.spotify.com/track/3OUyyDN7EZrL7i0...    Vietnam   \n",
       "26173510  https://open.spotify.com/track/6eky30oFiQbHUAT...    Vietnam   \n",
       "26173511  https://open.spotify.com/track/2klsSb2iTfgDh95...    Vietnam   \n",
       "26173512  https://open.spotify.com/track/1aU1wpYBSpP0M6I...    Vietnam   \n",
       "26173513  https://open.spotify.com/track/508QhA2SncMbh5C...    Vietnam   \n",
       "\n",
       "            chart          trend   streams  \n",
       "0          top200  SAME_POSITION  253019.0  \n",
       "1          top200        MOVE_UP  223988.0  \n",
       "2          top200      MOVE_DOWN  210943.0  \n",
       "3          top200  SAME_POSITION  173865.0  \n",
       "4          top200        MOVE_UP  153956.0  \n",
       "...           ...            ...       ...  \n",
       "26173509  viral50        MOVE_UP       NaN  \n",
       "26173510  viral50      NEW_ENTRY       NaN  \n",
       "26173511  viral50      MOVE_DOWN       NaN  \n",
       "26173512  viral50      MOVE_DOWN       NaN  \n",
       "26173513  viral50      MOVE_DOWN       NaN  \n",
       "\n",
       "[26173514 rows x 9 columns]"
      ]
     },
     "execution_count": 13,
     "metadata": {},
     "output_type": "execute_result"
    }
   ],
   "source": [
    "df"
   ]
  },
  {
   "cell_type": "markdown",
   "metadata": {
    "id": "U0kexPzZjEuP"
   },
   "source": [
    "#### getting information regarding the dataset, such as the number of entries, types of data types used, and the amount of memory used:\n"
   ]
  },
  {
   "cell_type": "code",
   "execution_count": 14,
   "metadata": {
    "id": "PdxuaxxhgCvF"
   },
   "outputs": [
    {
     "name": "stdout",
     "output_type": "stream",
     "text": [
      "<class 'pandas.core.frame.DataFrame'>\n",
      "RangeIndex: 26173514 entries, 0 to 26173513\n",
      "Data columns (total 9 columns):\n",
      " #   Column   Dtype  \n",
      "---  ------   -----  \n",
      " 0   title    object \n",
      " 1   rank     int64  \n",
      " 2   date     object \n",
      " 3   artist   object \n",
      " 4   url      object \n",
      " 5   region   object \n",
      " 6   chart    object \n",
      " 7   trend    object \n",
      " 8   streams  float64\n",
      "dtypes: float64(1), int64(1), object(7)\n",
      "memory usage: 1.8+ GB\n"
     ]
    }
   ],
   "source": [
    "df.info()"
   ]
  },
  {
   "cell_type": "markdown",
   "metadata": {
    "id": "36UY7_v6CjMt"
   },
   "source": [
    "#### getting the number of missing data per column:"
   ]
  },
  {
   "cell_type": "code",
   "execution_count": 15,
   "metadata": {
    "id": "VLadeUzY1vvX"
   },
   "outputs": [
    {
     "data": {
      "text/plain": [
       "title           11\n",
       "rank             0\n",
       "date             0\n",
       "artist          18\n",
       "url              0\n",
       "region           0\n",
       "chart            0\n",
       "trend            0\n",
       "streams    5851610\n",
       "dtype: int64"
      ]
     },
     "execution_count": 15,
     "metadata": {},
     "output_type": "execute_result"
    }
   ],
   "source": [
    "df.isna().sum()"
   ]
  },
  {
   "cell_type": "code",
   "execution_count": 16,
   "metadata": {},
   "outputs": [
    {
     "name": "stdout",
     "output_type": "stream",
     "text": [
      "55261.314376595816\n"
     ]
    }
   ],
   "source": [
    "stream_mean = df['streams'].mean(skipna = True)\n",
    "print(stream_mean)"
   ]
  },
  {
   "cell_type": "markdown",
   "metadata": {
    "id": "UUbQKicsF7XW"
   },
   "source": [
    "#### filling the stream's missing data as the average of all the streams: "
   ]
  },
  {
   "cell_type": "code",
   "execution_count": 17,
   "metadata": {
    "id": "WV99Y9efMZlL"
   },
   "outputs": [],
   "source": [
    "df['streams'].fillna(stream_mean, inplace = True)"
   ]
  },
  {
   "cell_type": "code",
   "execution_count": 18,
   "metadata": {},
   "outputs": [
    {
     "data": {
      "text/html": [
       "<div>\n",
       "<style scoped>\n",
       "    .dataframe tbody tr th:only-of-type {\n",
       "        vertical-align: middle;\n",
       "    }\n",
       "\n",
       "    .dataframe tbody tr th {\n",
       "        vertical-align: top;\n",
       "    }\n",
       "\n",
       "    .dataframe thead th {\n",
       "        text-align: right;\n",
       "    }\n",
       "</style>\n",
       "<table border=\"1\" class=\"dataframe\">\n",
       "  <thead>\n",
       "    <tr style=\"text-align: right;\">\n",
       "      <th></th>\n",
       "      <th>title</th>\n",
       "      <th>rank</th>\n",
       "      <th>date</th>\n",
       "      <th>artist</th>\n",
       "      <th>url</th>\n",
       "      <th>region</th>\n",
       "      <th>chart</th>\n",
       "      <th>trend</th>\n",
       "      <th>streams</th>\n",
       "    </tr>\n",
       "  </thead>\n",
       "  <tbody>\n",
       "    <tr>\n",
       "      <th>0</th>\n",
       "      <td>Chantaje (feat. Maluma)</td>\n",
       "      <td>1</td>\n",
       "      <td>2017-01-01</td>\n",
       "      <td>Shakira</td>\n",
       "      <td>https://open.spotify.com/track/6mICuAdrwEjh6Y6...</td>\n",
       "      <td>Argentina</td>\n",
       "      <td>top200</td>\n",
       "      <td>SAME_POSITION</td>\n",
       "      <td>253019.000000</td>\n",
       "    </tr>\n",
       "    <tr>\n",
       "      <th>1</th>\n",
       "      <td>Vente Pa' Ca (feat. Maluma)</td>\n",
       "      <td>2</td>\n",
       "      <td>2017-01-01</td>\n",
       "      <td>Ricky Martin</td>\n",
       "      <td>https://open.spotify.com/track/7DM4BPaS7uofFul...</td>\n",
       "      <td>Argentina</td>\n",
       "      <td>top200</td>\n",
       "      <td>MOVE_UP</td>\n",
       "      <td>223988.000000</td>\n",
       "    </tr>\n",
       "    <tr>\n",
       "      <th>2</th>\n",
       "      <td>Reggaetón Lento (Bailemos)</td>\n",
       "      <td>3</td>\n",
       "      <td>2017-01-01</td>\n",
       "      <td>CNCO</td>\n",
       "      <td>https://open.spotify.com/track/3AEZUABDXNtecAO...</td>\n",
       "      <td>Argentina</td>\n",
       "      <td>top200</td>\n",
       "      <td>MOVE_DOWN</td>\n",
       "      <td>210943.000000</td>\n",
       "    </tr>\n",
       "    <tr>\n",
       "      <th>3</th>\n",
       "      <td>Safari</td>\n",
       "      <td>4</td>\n",
       "      <td>2017-01-01</td>\n",
       "      <td>J Balvin, Pharrell Williams, BIA, Sky</td>\n",
       "      <td>https://open.spotify.com/track/6rQSrBHf7HlZjtc...</td>\n",
       "      <td>Argentina</td>\n",
       "      <td>top200</td>\n",
       "      <td>SAME_POSITION</td>\n",
       "      <td>173865.000000</td>\n",
       "    </tr>\n",
       "    <tr>\n",
       "      <th>4</th>\n",
       "      <td>Shaky Shaky</td>\n",
       "      <td>5</td>\n",
       "      <td>2017-01-01</td>\n",
       "      <td>Daddy Yankee</td>\n",
       "      <td>https://open.spotify.com/track/58IL315gMSTD37D...</td>\n",
       "      <td>Argentina</td>\n",
       "      <td>top200</td>\n",
       "      <td>MOVE_UP</td>\n",
       "      <td>153956.000000</td>\n",
       "    </tr>\n",
       "    <tr>\n",
       "      <th>...</th>\n",
       "      <td>...</td>\n",
       "      <td>...</td>\n",
       "      <td>...</td>\n",
       "      <td>...</td>\n",
       "      <td>...</td>\n",
       "      <td>...</td>\n",
       "      <td>...</td>\n",
       "      <td>...</td>\n",
       "      <td>...</td>\n",
       "    </tr>\n",
       "    <tr>\n",
       "      <th>26173509</th>\n",
       "      <td>BYE</td>\n",
       "      <td>46</td>\n",
       "      <td>2021-07-31</td>\n",
       "      <td>Jaden</td>\n",
       "      <td>https://open.spotify.com/track/3OUyyDN7EZrL7i0...</td>\n",
       "      <td>Vietnam</td>\n",
       "      <td>viral50</td>\n",
       "      <td>MOVE_UP</td>\n",
       "      <td>55261.314377</td>\n",
       "    </tr>\n",
       "    <tr>\n",
       "      <th>26173510</th>\n",
       "      <td>Pillars</td>\n",
       "      <td>47</td>\n",
       "      <td>2021-07-31</td>\n",
       "      <td>My Anh</td>\n",
       "      <td>https://open.spotify.com/track/6eky30oFiQbHUAT...</td>\n",
       "      <td>Vietnam</td>\n",
       "      <td>viral50</td>\n",
       "      <td>NEW_ENTRY</td>\n",
       "      <td>55261.314377</td>\n",
       "    </tr>\n",
       "    <tr>\n",
       "      <th>26173511</th>\n",
       "      <td>Gái Độc Thân</td>\n",
       "      <td>48</td>\n",
       "      <td>2021-07-31</td>\n",
       "      <td>Tlinh</td>\n",
       "      <td>https://open.spotify.com/track/2klsSb2iTfgDh95...</td>\n",
       "      <td>Vietnam</td>\n",
       "      <td>viral50</td>\n",
       "      <td>MOVE_DOWN</td>\n",
       "      <td>55261.314377</td>\n",
       "    </tr>\n",
       "    <tr>\n",
       "      <th>26173512</th>\n",
       "      <td>Renegade (feat. Taylor Swift)</td>\n",
       "      <td>49</td>\n",
       "      <td>2021-07-31</td>\n",
       "      <td>Big Red Machine</td>\n",
       "      <td>https://open.spotify.com/track/1aU1wpYBSpP0M6I...</td>\n",
       "      <td>Vietnam</td>\n",
       "      <td>viral50</td>\n",
       "      <td>MOVE_DOWN</td>\n",
       "      <td>55261.314377</td>\n",
       "    </tr>\n",
       "    <tr>\n",
       "      <th>26173513</th>\n",
       "      <td>Letter to Jarad</td>\n",
       "      <td>50</td>\n",
       "      <td>2021-07-31</td>\n",
       "      <td>LRN Slime, Shiloh Dynasty</td>\n",
       "      <td>https://open.spotify.com/track/508QhA2SncMbh5C...</td>\n",
       "      <td>Vietnam</td>\n",
       "      <td>viral50</td>\n",
       "      <td>MOVE_DOWN</td>\n",
       "      <td>55261.314377</td>\n",
       "    </tr>\n",
       "  </tbody>\n",
       "</table>\n",
       "<p>26173514 rows × 9 columns</p>\n",
       "</div>"
      ],
      "text/plain": [
       "                                  title  rank        date  \\\n",
       "0               Chantaje (feat. Maluma)     1  2017-01-01   \n",
       "1           Vente Pa' Ca (feat. Maluma)     2  2017-01-01   \n",
       "2            Reggaetón Lento (Bailemos)     3  2017-01-01   \n",
       "3                                Safari     4  2017-01-01   \n",
       "4                           Shaky Shaky     5  2017-01-01   \n",
       "...                                 ...   ...         ...   \n",
       "26173509                            BYE    46  2021-07-31   \n",
       "26173510                        Pillars    47  2021-07-31   \n",
       "26173511                   Gái Độc Thân    48  2021-07-31   \n",
       "26173512  Renegade (feat. Taylor Swift)    49  2021-07-31   \n",
       "26173513                Letter to Jarad    50  2021-07-31   \n",
       "\n",
       "                                         artist  \\\n",
       "0                                       Shakira   \n",
       "1                                  Ricky Martin   \n",
       "2                                          CNCO   \n",
       "3         J Balvin, Pharrell Williams, BIA, Sky   \n",
       "4                                  Daddy Yankee   \n",
       "...                                         ...   \n",
       "26173509                                  Jaden   \n",
       "26173510                                 My Anh   \n",
       "26173511                                  Tlinh   \n",
       "26173512                        Big Red Machine   \n",
       "26173513              LRN Slime, Shiloh Dynasty   \n",
       "\n",
       "                                                        url     region  \\\n",
       "0         https://open.spotify.com/track/6mICuAdrwEjh6Y6...  Argentina   \n",
       "1         https://open.spotify.com/track/7DM4BPaS7uofFul...  Argentina   \n",
       "2         https://open.spotify.com/track/3AEZUABDXNtecAO...  Argentina   \n",
       "3         https://open.spotify.com/track/6rQSrBHf7HlZjtc...  Argentina   \n",
       "4         https://open.spotify.com/track/58IL315gMSTD37D...  Argentina   \n",
       "...                                                     ...        ...   \n",
       "26173509  https://open.spotify.com/track/3OUyyDN7EZrL7i0...    Vietnam   \n",
       "26173510  https://open.spotify.com/track/6eky30oFiQbHUAT...    Vietnam   \n",
       "26173511  https://open.spotify.com/track/2klsSb2iTfgDh95...    Vietnam   \n",
       "26173512  https://open.spotify.com/track/1aU1wpYBSpP0M6I...    Vietnam   \n",
       "26173513  https://open.spotify.com/track/508QhA2SncMbh5C...    Vietnam   \n",
       "\n",
       "            chart          trend        streams  \n",
       "0          top200  SAME_POSITION  253019.000000  \n",
       "1          top200        MOVE_UP  223988.000000  \n",
       "2          top200      MOVE_DOWN  210943.000000  \n",
       "3          top200  SAME_POSITION  173865.000000  \n",
       "4          top200        MOVE_UP  153956.000000  \n",
       "...           ...            ...            ...  \n",
       "26173509  viral50        MOVE_UP   55261.314377  \n",
       "26173510  viral50      NEW_ENTRY   55261.314377  \n",
       "26173511  viral50      MOVE_DOWN   55261.314377  \n",
       "26173512  viral50      MOVE_DOWN   55261.314377  \n",
       "26173513  viral50      MOVE_DOWN   55261.314377  \n",
       "\n",
       "[26173514 rows x 9 columns]"
      ]
     },
     "execution_count": 18,
     "metadata": {},
     "output_type": "execute_result"
    }
   ],
   "source": [
    "df"
   ]
  },
  {
   "cell_type": "markdown",
   "metadata": {
    "id": "FUJIymcbLq45"
   },
   "source": [
    "#### deleting all rows where the title and artist columns contain NaN values:"
   ]
  },
  {
   "cell_type": "code",
   "execution_count": 19,
   "metadata": {
    "id": "itO5SAEoM6Z_"
   },
   "outputs": [],
   "source": [
    "df = df.dropna( how='any', subset=['title', 'artist'])"
   ]
  },
  {
   "cell_type": "code",
   "execution_count": 20,
   "metadata": {},
   "outputs": [
    {
     "data": {
      "text/html": [
       "<div>\n",
       "<style scoped>\n",
       "    .dataframe tbody tr th:only-of-type {\n",
       "        vertical-align: middle;\n",
       "    }\n",
       "\n",
       "    .dataframe tbody tr th {\n",
       "        vertical-align: top;\n",
       "    }\n",
       "\n",
       "    .dataframe thead th {\n",
       "        text-align: right;\n",
       "    }\n",
       "</style>\n",
       "<table border=\"1\" class=\"dataframe\">\n",
       "  <thead>\n",
       "    <tr style=\"text-align: right;\">\n",
       "      <th></th>\n",
       "      <th>title</th>\n",
       "      <th>rank</th>\n",
       "      <th>date</th>\n",
       "      <th>artist</th>\n",
       "      <th>url</th>\n",
       "      <th>region</th>\n",
       "      <th>chart</th>\n",
       "      <th>trend</th>\n",
       "      <th>streams</th>\n",
       "    </tr>\n",
       "  </thead>\n",
       "  <tbody>\n",
       "    <tr>\n",
       "      <th>0</th>\n",
       "      <td>Chantaje (feat. Maluma)</td>\n",
       "      <td>1</td>\n",
       "      <td>2017-01-01</td>\n",
       "      <td>Shakira</td>\n",
       "      <td>https://open.spotify.com/track/6mICuAdrwEjh6Y6...</td>\n",
       "      <td>Argentina</td>\n",
       "      <td>top200</td>\n",
       "      <td>SAME_POSITION</td>\n",
       "      <td>253019.000000</td>\n",
       "    </tr>\n",
       "    <tr>\n",
       "      <th>1</th>\n",
       "      <td>Vente Pa' Ca (feat. Maluma)</td>\n",
       "      <td>2</td>\n",
       "      <td>2017-01-01</td>\n",
       "      <td>Ricky Martin</td>\n",
       "      <td>https://open.spotify.com/track/7DM4BPaS7uofFul...</td>\n",
       "      <td>Argentina</td>\n",
       "      <td>top200</td>\n",
       "      <td>MOVE_UP</td>\n",
       "      <td>223988.000000</td>\n",
       "    </tr>\n",
       "    <tr>\n",
       "      <th>2</th>\n",
       "      <td>Reggaetón Lento (Bailemos)</td>\n",
       "      <td>3</td>\n",
       "      <td>2017-01-01</td>\n",
       "      <td>CNCO</td>\n",
       "      <td>https://open.spotify.com/track/3AEZUABDXNtecAO...</td>\n",
       "      <td>Argentina</td>\n",
       "      <td>top200</td>\n",
       "      <td>MOVE_DOWN</td>\n",
       "      <td>210943.000000</td>\n",
       "    </tr>\n",
       "    <tr>\n",
       "      <th>3</th>\n",
       "      <td>Safari</td>\n",
       "      <td>4</td>\n",
       "      <td>2017-01-01</td>\n",
       "      <td>J Balvin, Pharrell Williams, BIA, Sky</td>\n",
       "      <td>https://open.spotify.com/track/6rQSrBHf7HlZjtc...</td>\n",
       "      <td>Argentina</td>\n",
       "      <td>top200</td>\n",
       "      <td>SAME_POSITION</td>\n",
       "      <td>173865.000000</td>\n",
       "    </tr>\n",
       "    <tr>\n",
       "      <th>4</th>\n",
       "      <td>Shaky Shaky</td>\n",
       "      <td>5</td>\n",
       "      <td>2017-01-01</td>\n",
       "      <td>Daddy Yankee</td>\n",
       "      <td>https://open.spotify.com/track/58IL315gMSTD37D...</td>\n",
       "      <td>Argentina</td>\n",
       "      <td>top200</td>\n",
       "      <td>MOVE_UP</td>\n",
       "      <td>153956.000000</td>\n",
       "    </tr>\n",
       "    <tr>\n",
       "      <th>...</th>\n",
       "      <td>...</td>\n",
       "      <td>...</td>\n",
       "      <td>...</td>\n",
       "      <td>...</td>\n",
       "      <td>...</td>\n",
       "      <td>...</td>\n",
       "      <td>...</td>\n",
       "      <td>...</td>\n",
       "      <td>...</td>\n",
       "    </tr>\n",
       "    <tr>\n",
       "      <th>26173509</th>\n",
       "      <td>BYE</td>\n",
       "      <td>46</td>\n",
       "      <td>2021-07-31</td>\n",
       "      <td>Jaden</td>\n",
       "      <td>https://open.spotify.com/track/3OUyyDN7EZrL7i0...</td>\n",
       "      <td>Vietnam</td>\n",
       "      <td>viral50</td>\n",
       "      <td>MOVE_UP</td>\n",
       "      <td>55261.314377</td>\n",
       "    </tr>\n",
       "    <tr>\n",
       "      <th>26173510</th>\n",
       "      <td>Pillars</td>\n",
       "      <td>47</td>\n",
       "      <td>2021-07-31</td>\n",
       "      <td>My Anh</td>\n",
       "      <td>https://open.spotify.com/track/6eky30oFiQbHUAT...</td>\n",
       "      <td>Vietnam</td>\n",
       "      <td>viral50</td>\n",
       "      <td>NEW_ENTRY</td>\n",
       "      <td>55261.314377</td>\n",
       "    </tr>\n",
       "    <tr>\n",
       "      <th>26173511</th>\n",
       "      <td>Gái Độc Thân</td>\n",
       "      <td>48</td>\n",
       "      <td>2021-07-31</td>\n",
       "      <td>Tlinh</td>\n",
       "      <td>https://open.spotify.com/track/2klsSb2iTfgDh95...</td>\n",
       "      <td>Vietnam</td>\n",
       "      <td>viral50</td>\n",
       "      <td>MOVE_DOWN</td>\n",
       "      <td>55261.314377</td>\n",
       "    </tr>\n",
       "    <tr>\n",
       "      <th>26173512</th>\n",
       "      <td>Renegade (feat. Taylor Swift)</td>\n",
       "      <td>49</td>\n",
       "      <td>2021-07-31</td>\n",
       "      <td>Big Red Machine</td>\n",
       "      <td>https://open.spotify.com/track/1aU1wpYBSpP0M6I...</td>\n",
       "      <td>Vietnam</td>\n",
       "      <td>viral50</td>\n",
       "      <td>MOVE_DOWN</td>\n",
       "      <td>55261.314377</td>\n",
       "    </tr>\n",
       "    <tr>\n",
       "      <th>26173513</th>\n",
       "      <td>Letter to Jarad</td>\n",
       "      <td>50</td>\n",
       "      <td>2021-07-31</td>\n",
       "      <td>LRN Slime, Shiloh Dynasty</td>\n",
       "      <td>https://open.spotify.com/track/508QhA2SncMbh5C...</td>\n",
       "      <td>Vietnam</td>\n",
       "      <td>viral50</td>\n",
       "      <td>MOVE_DOWN</td>\n",
       "      <td>55261.314377</td>\n",
       "    </tr>\n",
       "  </tbody>\n",
       "</table>\n",
       "<p>26173485 rows × 9 columns</p>\n",
       "</div>"
      ],
      "text/plain": [
       "                                  title  rank        date  \\\n",
       "0               Chantaje (feat. Maluma)     1  2017-01-01   \n",
       "1           Vente Pa' Ca (feat. Maluma)     2  2017-01-01   \n",
       "2            Reggaetón Lento (Bailemos)     3  2017-01-01   \n",
       "3                                Safari     4  2017-01-01   \n",
       "4                           Shaky Shaky     5  2017-01-01   \n",
       "...                                 ...   ...         ...   \n",
       "26173509                            BYE    46  2021-07-31   \n",
       "26173510                        Pillars    47  2021-07-31   \n",
       "26173511                   Gái Độc Thân    48  2021-07-31   \n",
       "26173512  Renegade (feat. Taylor Swift)    49  2021-07-31   \n",
       "26173513                Letter to Jarad    50  2021-07-31   \n",
       "\n",
       "                                         artist  \\\n",
       "0                                       Shakira   \n",
       "1                                  Ricky Martin   \n",
       "2                                          CNCO   \n",
       "3         J Balvin, Pharrell Williams, BIA, Sky   \n",
       "4                                  Daddy Yankee   \n",
       "...                                         ...   \n",
       "26173509                                  Jaden   \n",
       "26173510                                 My Anh   \n",
       "26173511                                  Tlinh   \n",
       "26173512                        Big Red Machine   \n",
       "26173513              LRN Slime, Shiloh Dynasty   \n",
       "\n",
       "                                                        url     region  \\\n",
       "0         https://open.spotify.com/track/6mICuAdrwEjh6Y6...  Argentina   \n",
       "1         https://open.spotify.com/track/7DM4BPaS7uofFul...  Argentina   \n",
       "2         https://open.spotify.com/track/3AEZUABDXNtecAO...  Argentina   \n",
       "3         https://open.spotify.com/track/6rQSrBHf7HlZjtc...  Argentina   \n",
       "4         https://open.spotify.com/track/58IL315gMSTD37D...  Argentina   \n",
       "...                                                     ...        ...   \n",
       "26173509  https://open.spotify.com/track/3OUyyDN7EZrL7i0...    Vietnam   \n",
       "26173510  https://open.spotify.com/track/6eky30oFiQbHUAT...    Vietnam   \n",
       "26173511  https://open.spotify.com/track/2klsSb2iTfgDh95...    Vietnam   \n",
       "26173512  https://open.spotify.com/track/1aU1wpYBSpP0M6I...    Vietnam   \n",
       "26173513  https://open.spotify.com/track/508QhA2SncMbh5C...    Vietnam   \n",
       "\n",
       "            chart          trend        streams  \n",
       "0          top200  SAME_POSITION  253019.000000  \n",
       "1          top200        MOVE_UP  223988.000000  \n",
       "2          top200      MOVE_DOWN  210943.000000  \n",
       "3          top200  SAME_POSITION  173865.000000  \n",
       "4          top200        MOVE_UP  153956.000000  \n",
       "...           ...            ...            ...  \n",
       "26173509  viral50        MOVE_UP   55261.314377  \n",
       "26173510  viral50      NEW_ENTRY   55261.314377  \n",
       "26173511  viral50      MOVE_DOWN   55261.314377  \n",
       "26173512  viral50      MOVE_DOWN   55261.314377  \n",
       "26173513  viral50      MOVE_DOWN   55261.314377  \n",
       "\n",
       "[26173485 rows x 9 columns]"
      ]
     },
     "execution_count": 20,
     "metadata": {},
     "output_type": "execute_result"
    }
   ],
   "source": [
    "df"
   ]
  },
  {
   "cell_type": "markdown",
   "metadata": {
    "id": "Sm2Ufe6T1whm"
   },
   "source": [
    "## **Exploratory Data Analysis and Data Vizualization:**"
   ]
  },
  {
   "cell_type": "markdown",
   "metadata": {
    "id": "FwERib6VzchK"
   },
   "source": [
    "### **Questions to Answer:** \n",
    "- What are the top songs that have occured the most in the Top 200 and Viral 50 Charts across all the regions? \n",
    "- Who are the top artists whose songs are present in the charts? \n",
    "- Find the popularity of a particular artist across all the regions in the world. \n",
    "- What are the top countries which contribute the most to sales across the world?"
   ]
  },
  {
   "cell_type": "code",
   "execution_count": 21,
   "metadata": {},
   "outputs": [],
   "source": [
    "import matplotlib.pyplot as plt\n",
    "import numpy as np\n",
    "import seaborn as sns"
   ]
  },
  {
   "cell_type": "markdown",
   "metadata": {
    "id": "s73HQxWXL3y6"
   },
   "source": [
    "##### Ques1. Which are the top songs that have occured the most in the Top 200 and Viral 50 Charts across all regions?"
   ]
  },
  {
   "cell_type": "code",
   "execution_count": 22,
   "metadata": {
    "id": "UFd1YJqHL3wE"
   },
   "outputs": [
    {
     "name": "stdout",
     "output_type": "stream",
     "text": [
      "Shape of You         68965\n",
      "Believer             60172\n",
      "Someone You Loved    57595\n",
      "Dance Monkey         56850\n",
      "Blinding Lights      56058\n",
      "                     ...  \n",
      "Yma                      1\n",
      "28 Days                  1\n",
      "Thread(1.11)             1\n",
      "Mamai                    1\n",
      "Keep It Going            1\n",
      "Name: title, Length: 164805, dtype: int64\n"
     ]
    }
   ],
   "source": [
    "title_occurence = df['title'].value_counts()\n",
    "print(title_occurence)"
   ]
  },
  {
   "cell_type": "code",
   "execution_count": 23,
   "metadata": {},
   "outputs": [
    {
     "name": "stdout",
     "output_type": "stream",
     "text": [
      "Shape of You         68965\n",
      "Believer             60172\n",
      "Someone You Loved    57595\n",
      "Dance Monkey         56850\n",
      "Blinding Lights      56058\n",
      "Name: title, dtype: int64\n"
     ]
    }
   ],
   "source": [
    "top_occurences = title_occurence.nlargest(n = 5)\n",
    "print(top_occurences)"
   ]
  },
  {
   "cell_type": "code",
   "execution_count": 24,
   "metadata": {},
   "outputs": [
    {
     "data": {
      "image/png": "[encoded data removed]",
      "text/plain": [
       "<Figure size 576x576 with 1 Axes>"
      ]
     },
     "metadata": {},
     "output_type": "display_data"
    }
   ],
   "source": [
    "plt.style.use('_mpl-gallery-nogrid')\n",
    "\n",
    "colors = plt.get_cmap('Blues')(np.linspace(0.2, 0.7, len(top_occurences)))\n",
    "fig, ax = plt.subplots()\n",
    "top_occurences.plot.pie(figsize = (8,8), colors=colors)\n",
    "\n",
    "plt.axis('off')\n",
    "plt.legend()\n",
    "plt.show()"
   ]
  },
  {
   "cell_type": "markdown",
   "metadata": {},
   "source": [
    "##### Ques2. Which artists have the most number of songs in the Top 200 and Viral 50 Charts? "
   ]
  },
  {
   "cell_type": "code",
   "execution_count": 25,
   "metadata": {
    "id": "ap94uMQni8Qu"
   },
   "outputs": [
    {
     "name": "stdout",
     "output_type": "stream",
     "text": [
      "Ed Sheeran                                                                 387917\n",
      "Billie Eilish                                                              251825\n",
      "Post Malone                                                                211272\n",
      "Bad Bunny                                                                  203403\n",
      "Ariana Grande                                                              189914\n",
      "                                                                            ...  \n",
      "Ezhel, Patron, Anıl Piyancı, Sansar Salvo, Allame, Pit10, Beta, Kamufle         1\n",
      "Lips, George Mason, Rose McIver, Kimbra                                         1\n",
      "Joakim Kleven, KOH                                                              1\n",
      "Lazyloxy, Maiyarap, OG-ANIC, UrboyTJ                                            1\n",
      "Luna 99                                                                         1\n",
      "Name: artist, Length: 96156, dtype: int64\n"
     ]
    }
   ],
   "source": [
    "artist_occurence = df['artist'].value_counts()\n",
    "print(artist_occurence)"
   ]
  },
  {
   "cell_type": "code",
   "execution_count": 26,
   "metadata": {
    "id": "1g1JcGnekjFb"
   },
   "outputs": [
    {
     "name": "stdout",
     "output_type": "stream",
     "text": [
      "Ed Sheeran       387917\n",
      "Billie Eilish    251825\n",
      "Post Malone      211272\n",
      "Bad Bunny        203403\n",
      "Ariana Grande    189914\n",
      "Name: artist, dtype: int64\n"
     ]
    }
   ],
   "source": [
    "top_artists = artist_occurence.nlargest(n=5)\n",
    "print(top_artists)"
   ]
  },
  {
   "cell_type": "code",
   "execution_count": 27,
   "metadata": {
    "id": "JdSEMeO_0mN2"
   },
   "outputs": [
    {
     "data": {
      "image/png": "[encoded data removed]",
      "text/plain": [
       "<Figure size 864x432 with 1 Axes>"
      ]
     },
     "metadata": {
      "needs_background": "light"
     },
     "output_type": "display_data"
    }
   ],
   "source": [
    "colors = plt.get_cmap('Blues')(np.linspace(0.2, 0.7, len(top_artists)))\n",
    "fig = plt.figure(figsize=(12, 6))\n",
    "\n",
    "artist = ['Ed Sheeran', 'Billie Eilish', 'Post Malone', 'Bad Bunny', 'Ariana Grande']\n",
    "\n",
    "plt.barh(artist, top_artists, color=colors, edgecolor=\"white\", linewidth=0.3)\n",
    "\n",
    "plt.show()"
   ]
  },
  {
   "cell_type": "markdown",
   "metadata": {
    "id": "c81xgDQU2DKD"
   },
   "source": [
    "##### Ques3. Find the popularity density of Ed Sheeran across all the regions in the world."
   ]
  },
  {
   "cell_type": "code",
   "execution_count": 28,
   "metadata": {
    "id": "wGRGfl_u2DHk"
   },
   "outputs": [
    {
     "name": "stdout",
     "output_type": "stream",
     "text": [
      "309         Ed Sheeran\n",
      "341         Ed Sheeran\n",
      "571         Ed Sheeran\n",
      "695         Ed Sheeran\n",
      "737         Ed Sheeran\n",
      "               ...    \n",
      "26173275    Ed Sheeran\n",
      "26173336    Ed Sheeran\n",
      "26173410    Ed Sheeran\n",
      "26173427    Ed Sheeran\n",
      "26173499    Ed Sheeran\n",
      "Name: artist, Length: 387917, dtype: object\n"
     ]
    }
   ],
   "source": [
    "ed_sheeran_df = df.loc[df['artist'] == 'Ed Sheeran']\n",
    "print(ed_sheeran_df['artist'])"
   ]
  },
  {
   "cell_type": "code",
   "execution_count": 95,
   "metadata": {
    "id": "OX-IaqRc2DFN"
   },
   "outputs": [
    {
     "name": "stdout",
     "output_type": "stream",
     "text": [
      "                  region       streams\n",
      "22                Global  4.442563e+11\n",
      "67         United States  1.471538e+11\n",
      "6                 Brazil  6.083595e+10\n",
      "39                Mexico  5.059645e+10\n",
      "21               Germany  4.497162e+10\n",
      "..                   ...           ...\n",
      "40               Morocco  3.549777e+09\n",
      "16                 Egypt  3.449073e+09\n",
      "65  United Arab Emirates  3.448878e+09\n",
      "64               Ukraine  1.916464e+09\n",
      "57           South Korea  1.082929e+09\n",
      "\n",
      "[70 rows x 2 columns]\n"
     ]
    }
   ],
   "source": [
    "ed_sheeran_df2 = df.groupby('region')['streams'].sum().to_frame().reset_index().sort_values(by=['streams'], ascending= False)\n",
    "print(ed_sheeran_df2)"
   ]
  },
  {
   "cell_type": "code",
   "execution_count": 115,
   "metadata": {},
   "outputs": [
    {
     "name": "stdout",
     "output_type": "stream",
     "text": [
      "            region    streams\n",
      "22          Global  30.715017\n",
      "67   United States  10.173930\n",
      "6           Brazil   4.206079\n",
      "39          Mexico   3.498140\n",
      "21         Germany   3.109250\n",
      "66  United Kingdom   2.864650\n"
     ]
    }
   ],
   "source": [
    "ed_sheeran_df2['streams'] = (100 * ed_sheeran_df2['streams']/ed_sheeran_df2['streams'].sum())\n",
    "finaldf = ed_sheeran_df2.head(6)\n",
    "print(finaldf)"
   ]
  },
  {
   "cell_type": "code",
   "execution_count": 114,
   "metadata": {},
   "outputs": [
    {
     "data": {
      "image/png": "[encoded data removed]",
      "text/plain": [
       "<Figure size 864x432 with 1 Axes>"
      ]
     },
     "metadata": {
      "needs_background": "light"
     },
     "output_type": "display_data"
    }
   ],
   "source": [
    "colors = plt.get_cmap('Blues')(np.linspace(0.2, 0.7, len(finaldf)))\n",
    "fig = plt.figure(figsize=(12, 6))\n",
    "\n",
    "streams = ['2.86%', '3.10%', '3.49%', '4.20%', '10.17%', '30.71%']\n",
    "regions = ['United Kingdom', 'Germany', 'Mexico', 'Brazil', 'United States', 'Global']\n",
    "\n",
    "plt.bar(regions, streams, color=colors, edgecolor=\"white\", linewidth=0.3)\n",
    "\n",
    "plt.show()"
   ]
  },
  {
   "cell_type": "markdown",
   "metadata": {},
   "source": [
    "##### Ques4. What are the top countries which contribute the most to sales across the world? "
   ]
  },
  {
   "cell_type": "code",
   "execution_count": 117,
   "metadata": {},
   "outputs": [],
   "source": [
    "region_df = df.groupby('region')['streams'].sum()"
   ]
  },
  {
   "cell_type": "code",
   "execution_count": 120,
   "metadata": {},
   "outputs": [],
   "source": [
    "region_df = region_df.sort_values(ascending = False)"
   ]
  },
  {
   "cell_type": "code",
   "execution_count": 129,
   "metadata": {},
   "outputs": [
    {
     "name": "stdout",
     "output_type": "stream",
     "text": [
      "region\n",
      "United States     1.471538e+11\n",
      "Brazil            6.083595e+10\n",
      "Mexico            5.059645e+10\n",
      "Germany           4.497162e+10\n",
      "United Kingdom    4.143377e+10\n",
      "Spain             3.208567e+10\n",
      "Italy             3.061588e+10\n",
      "France            2.889428e+10\n",
      "Australia         2.515224e+10\n",
      "Name: streams, dtype: float64\n"
     ]
    }
   ],
   "source": [
    "top_regions = region_df.nlargest(n = 10)\n",
    "top_regions.drop(top_regions.index[0], inplace=True)\n",
    "print(top_regions)"
   ]
  },
  {
   "cell_type": "code",
   "execution_count": 130,
   "metadata": {},
   "outputs": [
    {
     "data": {
      "image/png": "[encoded data removed]",
      "text/plain": [
       "<Figure size 576x576 with 1 Axes>"
      ]
     },
     "metadata": {},
     "output_type": "display_data"
    }
   ],
   "source": [
    "plt.style.use('_mpl-gallery-nogrid')\n",
    "\n",
    "colors = plt.get_cmap('Blues')(np.linspace(0.2, 0.7, len(top_regions)))\n",
    "fig, ax = plt.subplots()\n",
    "top_regions.plot.pie(figsize = (8,8), colors=colors)\n",
    "\n",
    "plt.axis('off')\n",
    "plt.legend()\n",
    "plt.show()"
   ]
  },
  {
   "cell_type": "markdown",
   "metadata": {
    "id": "Z_XebtGK2ERB"
   },
   "source": [
    "## **Summary and Conclusion:**"
   ]
  },
  {
   "cell_type": "markdown",
   "metadata": {
    "id": "AqL7F6Qs2DAj"
   },
   "source": [
    "- The Spotify Dataset (2017-2021) was used to analyze how various countries have contributed towards the streaming and sales of music over the years, and the artists that have made a place in people's hearts over the years. \n",
    "\n",
    "- Ed Sheeran, Ariana Grande, Post Malone and Bad Bunny are some of the artists that have remained at the top over the last 5 years and have proven to be among the best. \n",
    "\n",
    "- Some of the songs released over the years like Believer, Shape of You, Someone You Loved and Blinding Lights have most people's favourites across the world, being played on loop. \n",
    "\n",
    "- The United States, United Kingdom, Germany and Brazil are some regions around the world which have contributed the most towards the music industry, be it their artists, or their people streaming and buying music."
   ]
  }
 ],
 "metadata": {
  "colab": {
   "collapsed_sections": [
    "e0e51EWO8IWK",
    "WcG8Xvwr-Jm9"
   ],
   "name": "spotify-charts-eda-project.ipynb",
   "provenance": []
  },
  "kernelspec": {
   "display_name": "Python 3 (ipykernel)",
   "language": "python",
   "name": "python3"
  },
  "language_info": {
   "codemirror_mode": {
    "name": "ipython",
    "version": 3
   },
   "file_extension": ".py",
   "mimetype": "text/x-python",
   "name": "python",
   "nbconvert_exporter": "python",
   "pygments_lexer": "ipython3",
   "version": "3.9.12"
  }
 },
 "nbformat": 4,
 "nbformat_minor": 1
}
