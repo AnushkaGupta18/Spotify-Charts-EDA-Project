{
  "cells": [
    {
      "cell_type": "markdown",
      "metadata": {
        "id": "view-in-github",
        "colab_type": "text"
      },
      "source": [
        "<a href=\"https://colab.research.google.com/github/AnushkaGupta18/Spotify-Charts-EDA-Project/blob/main/spotify_charts_eda_project.ipynb\" target=\"_parent\"><img src=\"https://colab.research.google.com/assets/colab-badge.svg\" alt=\"Open In Colab\"/></a>"
      ]
    },
    {
      "cell_type": "code",
      "execution_count": null,
      "metadata": {
        "id": "aK8AaCDv8IV9"
      },
      "outputs": [],
      "source": [
        "# Jovian Commit Essentials\n",
        "# Please retain and execute this cell without modifying the contents for `jovian.commit` to work\n",
        "!pip install jovian --upgrade -q\n",
        "import jovian\n",
        "jovian.set_project('spotify-charts-eda-project')\n",
        "jovian.set_colab_id('10uGREzaGEozUB1LPPaJh90o9AJ1Sd5qg')"
      ]
    },
    {
      "cell_type": "markdown",
      "metadata": {
        "id": "e0e51EWO8IWK"
      },
      "source": [
        "# spotify-charts-eda-project\n",
        "\n",
        "Use the \"Run\" button to execute the code."
      ]
    },
    {
      "cell_type": "code",
      "execution_count": null,
      "metadata": {
        "id": "RvV4smhh8IWO"
      },
      "outputs": [],
      "source": [
        "!pip install jovian --upgrade --quiet"
      ]
    },
    {
      "cell_type": "code",
      "execution_count": null,
      "metadata": {
        "id": "6eo8gCPf8IWR"
      },
      "outputs": [],
      "source": [
        "import jovian"
      ]
    },
    {
      "cell_type": "code",
      "execution_count": null,
      "metadata": {
        "code_folding": [],
        "id": "dtoyG2Ke8IWS"
      },
      "outputs": [],
      "source": [
        "# Execute this to save new versions of the notebook\n",
        "jovian.commit(project=\"spotify-charts-eda-project\")"
      ]
    },
    {
      "cell_type": "markdown",
      "source": [
        "# **Spotify Charts, Exploratory Data Analysis**\n",
        "\n",
        "\n",
        "Exploratory Data Analysis refers to the critical process of performing initial \n",
        "investigations on data so as to discover patterns,to spot anomalies,to test \n",
        "hypothesis and to check assumptions with the help of summary statistics and graphical representations.\n",
        "\n",
        "\n",
        "The dataset has been taken from kaggle, and it contains information of all the \"Top 200\" and \"Viral 50\" charts published globally by Spotify. Spotify publishes a new chart every 2-3 days. This is its entire collection since January 1, 2017. The dataset can be used to identify the different artists people listen to most across the world, and the growth of various artists through the years.\n",
        "\n",
        "\n",
        "\n"
      ],
      "metadata": {
        "id": "WcG8Xvwr-Jm9"
      }
    },
    {
      "cell_type": "code",
      "execution_count": null,
      "metadata": {
        "id": "q6tHmpea8IWV"
      },
      "outputs": [],
      "source": [
        "pip install opendatasets --upgrade --quiet\n"
      ]
    },
    {
      "cell_type": "code",
      "source": [
        "import opendatasets as od \n",
        "\n",
        "download_url = 'https://www.kaggle.com/datasets/dhruvildave/spotify-charts'\n",
        "\n",
        "od.download(download_url)"
      ],
      "metadata": {
        "id": "lbK06aakAl4P"
      },
      "execution_count": null,
      "outputs": []
    },
    {
      "cell_type": "code",
      "source": [
        "dataset_filename = './spotify-charts/charts.csv'"
      ],
      "metadata": {
        "id": "L3gJ-gVgCKnh"
      },
      "execution_count": null,
      "outputs": []
    },
    {
      "cell_type": "markdown",
      "source": [
        "##**Data Preparation and Cleaning:**\n",
        "\n",
        "- Load the file using Pandas\n",
        "- Look at some information about the data and columns\n",
        "- Fix any missing or incorrect values\n",
        "\n"
      ],
      "metadata": {
        "id": "MUwNnOWaCWAk"
      }
    },
    {
      "cell_type": "code",
      "source": [
        "import pandas as pd"
      ],
      "metadata": {
        "id": "3rLsJp_SCcqJ"
      },
      "execution_count": null,
      "outputs": []
    },
    {
      "cell_type": "code",
      "source": [
        "df = pd.read_csv(dataset_filename)"
      ],
      "metadata": {
        "id": "UMOQT8xvfUyW"
      },
      "execution_count": null,
      "outputs": []
    },
    {
      "cell_type": "code",
      "source": [
        "df"
      ],
      "metadata": {
        "id": "Sw4clbxefmHf"
      },
      "execution_count": null,
      "outputs": []
    },
    {
      "cell_type": "markdown",
      "source": [
        "#### getting information regarding the dataset, such as the number of entries, types of data types used, and the amount of memory used:\n"
      ],
      "metadata": {
        "id": "U0kexPzZjEuP"
      }
    },
    {
      "cell_type": "code",
      "source": [
        "df.info()"
      ],
      "metadata": {
        "id": "PdxuaxxhgCvF"
      },
      "execution_count": null,
      "outputs": []
    },
    {
      "cell_type": "markdown",
      "source": [
        "####getting the number of missing data per column:"
      ],
      "metadata": {
        "id": "36UY7_v6CjMt"
      }
    },
    {
      "cell_type": "code",
      "source": [
        "df.isna().sum()"
      ],
      "metadata": {
        "id": "VLadeUzY1vvX"
      },
      "execution_count": null,
      "outputs": []
    },
    {
      "cell_type": "markdown",
      "source": [
        "####filling the stream's missing data as the average of all the streams: "
      ],
      "metadata": {
        "id": "UUbQKicsF7XW"
      }
    },
    {
      "cell_type": "code",
      "source": [
        "df['streams'].fillna(df['streams'].mean(skipna = False), inplace = True)"
      ],
      "metadata": {
        "id": "WV99Y9efMZlL"
      },
      "execution_count": null,
      "outputs": []
    },
    {
      "cell_type": "markdown",
      "source": [
        "####deleting all rows where the title and artist columns contain NaN values:"
      ],
      "metadata": {
        "id": "FUJIymcbLq45"
      }
    },
    {
      "cell_type": "code",
      "source": [
        "df = df.dropna( how='any', subset=['title', 'artist'])"
      ],
      "metadata": {
        "id": "itO5SAEoM6Z_"
      },
      "execution_count": null,
      "outputs": []
    },
    {
      "cell_type": "markdown",
      "source": [
        "##**Exploratory Data Analysis and Data Vizualization:**"
      ],
      "metadata": {
        "id": "Sm2Ufe6T1whm"
      }
    },
    {
      "cell_type": "markdown",
      "source": [
        "###**Questions to Answer:** \n",
        "- What are the top 5 songs that have occured the most in the Top 200 and Viral 50 Charts across all the regions? \n",
        "- Which are the top artists whose songs are present in the charts? \n",
        "- What are the songs which stayed in the Top 200 and Viral 50 charts for the longest period of time? \n",
        "- Which are the top 5 songs with the highest streams? \n",
        "- Find the popularity of a particular artist across all the regions in the world. \n",
        "- What are the top countries where music plays an important role? \n"
      ],
      "metadata": {
        "id": "FwERib6VzchK"
      }
    },
    {
      "cell_type": "code",
      "source": [
        ""
      ],
      "metadata": {
        "id": "s73HQxWXL3y6"
      },
      "execution_count": null,
      "outputs": []
    },
    {
      "cell_type": "code",
      "source": [
        ""
      ],
      "metadata": {
        "id": "UFd1YJqHL3wE"
      },
      "execution_count": null,
      "outputs": []
    },
    {
      "cell_type": "code",
      "source": [
        ""
      ],
      "metadata": {
        "id": "a3Jd-rGpL3s-"
      },
      "execution_count": null,
      "outputs": []
    },
    {
      "cell_type": "code",
      "source": [
        ""
      ],
      "metadata": {
        "id": "DRKwSrAL1vdX"
      },
      "execution_count": null,
      "outputs": []
    },
    {
      "cell_type": "code",
      "source": [
        ""
      ],
      "metadata": {
        "id": "ap94uMQni8Qu"
      },
      "execution_count": null,
      "outputs": []
    },
    {
      "cell_type": "code",
      "source": [
        ""
      ],
      "metadata": {
        "id": "1g1JcGnekjFb"
      },
      "execution_count": null,
      "outputs": []
    },
    {
      "cell_type": "code",
      "source": [
        ""
      ],
      "metadata": {
        "id": "JdSEMeO_0mN2"
      },
      "execution_count": null,
      "outputs": []
    },
    {
      "cell_type": "code",
      "source": [
        ""
      ],
      "metadata": {
        "id": "x97iGnvJ2DSa"
      },
      "execution_count": null,
      "outputs": []
    },
    {
      "cell_type": "code",
      "source": [
        ""
      ],
      "metadata": {
        "id": "WtoRGzDj2DOx"
      },
      "execution_count": null,
      "outputs": []
    },
    {
      "cell_type": "code",
      "source": [
        ""
      ],
      "metadata": {
        "id": "lFuE4XP52DMZ"
      },
      "execution_count": null,
      "outputs": []
    },
    {
      "cell_type": "code",
      "source": [
        ""
      ],
      "metadata": {
        "id": "c81xgDQU2DKD"
      },
      "execution_count": null,
      "outputs": []
    },
    {
      "cell_type": "code",
      "source": [
        ""
      ],
      "metadata": {
        "id": "wGRGfl_u2DHk"
      },
      "execution_count": null,
      "outputs": []
    },
    {
      "cell_type": "code",
      "source": [
        ""
      ],
      "metadata": {
        "id": "OX-IaqRc2DFN"
      },
      "execution_count": null,
      "outputs": []
    },
    {
      "cell_type": "code",
      "source": [
        ""
      ],
      "metadata": {
        "id": "rsAaU4422DDF"
      },
      "execution_count": null,
      "outputs": []
    },
    {
      "cell_type": "markdown",
      "source": [
        "##**Summary and Conclusion:**"
      ],
      "metadata": {
        "id": "Z_XebtGK2ERB"
      }
    },
    {
      "cell_type": "code",
      "source": [
        ""
      ],
      "metadata": {
        "id": "AqL7F6Qs2DAj"
      },
      "execution_count": null,
      "outputs": []
    }
  ],
  "metadata": {
    "kernelspec": {
      "display_name": "Python 3 (ipykernel)",
      "language": "python",
      "name": "python3"
    },
    "language_info": {
      "codemirror_mode": {
        "name": "ipython",
        "version": 3
      },
      "file_extension": ".py",
      "mimetype": "text/x-python",
      "name": "python",
      "nbconvert_exporter": "python",
      "pygments_lexer": "ipython3",
      "version": "3.9.6"
    },
    "colab": {
      "name": "spotify-charts-eda-project.ipynb",
      "provenance": [],
      "collapsed_sections": [
        "e0e51EWO8IWK",
        "WcG8Xvwr-Jm9"
      ],
      "include_colab_link": true
    }
  },
  "nbformat": 4,
  "nbformat_minor": 0
}